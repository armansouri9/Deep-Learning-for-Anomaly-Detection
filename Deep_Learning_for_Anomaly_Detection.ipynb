{
  "cells": [
    {
      "cell_type": "markdown",
      "metadata": {
        "id": "4odZgMzfM4td"
      },
      "source": [
        "# Anomalies "
      ]
    },
    {
      "cell_type": "code",
      "execution_count": null,
      "metadata": {
        "id": "PIhCZyL4oS51"
      },
      "outputs": [],
      "source": [
        "import torch\n",
        "import torch.nn as nn\n",
        "from torch.utils.data import DataLoader, Dataset\n",
        "import numpy as np\n",
        "from sklearn.model_selection import train_test_split\n",
        "\n",
        "\n",
        "# ساخت دیتاست ساده برای تست\n",
        "class CustomDataset(Dataset):\n",
        "    def __init__(self, data, labels):\n",
        "        self.data = data\n",
        "        self.labels = labels\n",
        "\n",
        "    def __getitem__(self, index):\n",
        "        x = self.data[index]\n",
        "        y = self.labels[index]\n",
        "        return x, y\n",
        "\n",
        "    def __len__(self):\n",
        "        return len(self.data)\n",
        "\n",
        "\n",
        "class LSTM(nn.Module):\n",
        "    def __init__(self, input_size, hidden_size, num_layers):\n",
        "        super(LSTM, self).__init__()\n",
        "\n",
        "        self.hidden_size = hidden_size\n",
        "        self.num_layers = num_layers\n",
        "\n",
        "        self.lstm = nn.LSTM(input_size=input_size, hidden_size=hidden_size, num_layers=num_layers, batch_first=True)\n",
        "        self.fc = nn.Linear(hidden_size, 1)\n",
        "\n",
        "    def forward(self, x):\n",
        "        h0 = torch.zeros(self.num_layers, x.size(0), self.hidden_size).to(device)\n",
        "        c0 = torch.zeros(self.num_layers, x.size(0), self.hidden_size).to(device)\n",
        "\n",
        "        out, _ = self.lstm(x, (h0, c0))\n",
        "        out = self.fc(out[:, -1, :])\n",
        "        return out\n",
        "\n",
        "\n",
        "def train(model, dataloader):\n",
        "    model.train()\n",
        "    train_loss = 0\n",
        "\n",
        "    for i, (x, y) in enumerate(dataloader):\n",
        "        optimizer.zero_grad()\n",
        "\n",
        "        x = x.unsqueeze(2)\n",
        "        x = x.float().to(device)\n",
        "        y = y.float().to(device)\n",
        "\n",
        "        output = model(x)\n",
        "        loss = criterion(output.squeeze(), y)\n",
        "        train_loss += loss.item()\n",
        "\n",
        "        loss.backward()\n",
        "        optimizer.step()\n",
        "\n",
        "    return train_loss / len(dataloader)\n",
        "\n",
        "\n",
        "def test(model, dataloader):\n",
        "    model.eval()\n",
        "    test_loss = 0\n",
        "    y_true = []\n",
        "    y_pred = []\n",
        "\n",
        "    with torch.no_grad():\n",
        "        for i, (x, y) in enumerate(dataloader):\n",
        "\n",
        "            x = x.unsqueeze(2)\n",
        "            x = x.float().to(device)\n",
        "            y = y.float().to(device)\n",
        "\n",
        "            output = model(x)\n",
        "            loss = criterion(output.squeeze(), y)\n",
        "            test_loss += loss.item()\n",
        "\n",
        "            y_true.extend(y.cpu().numpy())\n",
        "            y_pred.extend(output.cpu().numpy())\n",
        "\n",
        "    return test_loss / len(dataloader), y_true, y_pred\n",
        "\n",
        "\n",
        "# تعیین دستگاه پردازشی\n",
        "device = torch.device('cuda' if torch.cuda.is_available() else 'cpu')\n",
        "\n",
        "# تعیین پارامترهای شبکه\n",
        "input_size = 1\n",
        "hidden_size = 64\n",
        "num_layers = 2\n",
        "learning_rate = 0.001\n",
        "num_epochs = 50\n",
        "batch_size = 16"
      ]
    },
    {
      "cell_type": "markdown",
      "metadata": {
        "id": "YJakQKjvoayX"
      },
      "source": [
        "ساخت دیتاست ساده برای تست\n"
      ]
    },
    {
      "cell_type": "code",
      "execution_count": null,
      "metadata": {
        "colab": {
          "base_uri": "https://localhost:8080/"
        },
        "id": "x78nt3vToYWi",
        "outputId": "1204f1f2-69be-4d70-cee3-ddfd5baf6b2b"
      },
      "outputs": [
        {
          "data": {
            "text/plain": [
              "-0.3283969644974374"
            ]
          },
          "execution_count": 469,
          "metadata": {},
          "output_type": "execute_result"
        }
      ],
      "source": [
        "data = np.random.normal(0, 5, size=(100, 2))\n",
        "labels = np.zeros((100,))\n",
        "data.mean()"
      ]
    },
    {
      "cell_type": "markdown",
      "metadata": {
        "id": "dTfc9TKuocR2"
      },
      "source": [
        "افزودن نویز به داده ها"
      ]
    },
    {
      "cell_type": "code",
      "execution_count": null,
      "metadata": {
        "colab": {
          "base_uri": "https://localhost:8080/"
        },
        "id": "tPBm35hiob1e",
        "outputId": "21950722-ea36-469b-c31a-f988664f2892"
      },
      "outputs": [
        {
          "data": {
            "text/plain": [
              "11"
            ]
          },
          "execution_count": 470,
          "metadata": {},
          "output_type": "execute_result"
        }
      ],
      "source": [
        "noise_indices = np.random.choice(100, size=10)\n",
        "data[noise_indices] = np.random.normal(30, 100, size=(10, 2))\n",
        "labels[noise_indices] = 1\n",
        "len(data[noise_indices][data[noise_indices]>data[noise_indices].mean()])"
      ]
    },
    {
      "cell_type": "markdown",
      "metadata": {
        "id": "rSFM8BXMog7h"
      },
      "source": [
        "تقسیم داده ها به دو بخش آموزشی و تست\n"
      ]
    },
    {
      "cell_type": "code",
      "execution_count": null,
      "metadata": {
        "id": "fgUkgPxpohe_"
      },
      "outputs": [],
      "source": [
        "x_train, x_test, y_train, y_test = train_test_split(data, labels, test_size=0.2, random_state=42)\n",
        "\n",
        "train_dataset = CustomDataset(x_train, y_train)\n",
        "test_dataset = CustomDataset(x_test, y_test)\n",
        "\n",
        "train_loader = DataLoader(train_dataset, batch_size=batch_size, shuffle=True)\n",
        "test_loader = DataLoader(test_dataset, batch_size=batch_size)"
      ]
    },
    {
      "cell_type": "markdown",
      "metadata": {
        "id": "6_mF3fnqojj2"
      },
      "source": [
        "ایجاد شبکه LSTM\n"
      ]
    },
    {
      "cell_type": "code",
      "execution_count": null,
      "metadata": {
        "id": "VNSzYtakolB2"
      },
      "outputs": [],
      "source": [
        "model = LSTM(input_size, hidden_size, num_layers).to(device)"
      ]
    },
    {
      "cell_type": "markdown",
      "metadata": {
        "id": "j0-IZVdoompf"
      },
      "source": [
        "تعریف تابع هزینه و بهینه ساز\n"
      ]
    },
    {
      "cell_type": "code",
      "execution_count": null,
      "metadata": {
        "id": "LdjRKQWpon6X"
      },
      "outputs": [],
      "source": [
        "criterion = nn.BCEWithLogitsLoss()\n",
        "optimizer = torch.optim.Adam(model.parameters(), lr=learning_rate)"
      ]
    },
    {
      "cell_type": "markdown",
      "metadata": {
        "id": "L7mPpVCiopkW"
      },
      "source": [
        "آموزش شبکه\n"
      ]
    },
    {
      "cell_type": "code",
      "execution_count": null,
      "metadata": {
        "colab": {
          "base_uri": "https://localhost:8080/",
          "height": 1000
        },
        "id": "at7zyJaTpPqH",
        "outputId": "afb21614-1b3c-41ef-d170-72403e3e925c"
      },
      "outputs": [
        {
          "name": "stdout",
          "output_type": "stream",
          "text": [
            "Epoch 1, Train Loss: 0.6372, Test Loss: 0.6337\n",
            "Epoch 2, Train Loss: 0.6143, Test Loss: 0.6113\n",
            "Epoch 3, Train Loss: 0.5883, Test Loss: 0.5843\n",
            "Epoch 4, Train Loss: 0.5571, Test Loss: 0.5509\n",
            "Epoch 5, Train Loss: 0.5188, Test Loss: 0.5080\n",
            "Epoch 6, Train Loss: 0.4684, Test Loss: 0.4552\n",
            "Epoch 7, Train Loss: 0.4085, Test Loss: 0.3923\n",
            "Epoch 8, Train Loss: 0.3420, Test Loss: 0.3243\n",
            "Epoch 9, Train Loss: 0.2736, Test Loss: 0.2581\n",
            "Epoch 10, Train Loss: 0.2108, Test Loss: 0.1984\n",
            "Epoch 11, Train Loss: 0.1604, Test Loss: 0.1491\n",
            "Epoch 12, Train Loss: 0.1190, Test Loss: 0.1123\n",
            "Epoch 13, Train Loss: 0.0878, Test Loss: 0.0865\n",
            "Epoch 14, Train Loss: 0.0658, Test Loss: 0.0686\n",
            "Epoch 15, Train Loss: 0.0526, Test Loss: 0.0565\n",
            "Epoch 16, Train Loss: 0.0404, Test Loss: 0.0481\n",
            "Epoch 17, Train Loss: 0.0331, Test Loss: 0.0414\n",
            "Epoch 18, Train Loss: 0.0275, Test Loss: 0.0360\n",
            "Epoch 19, Train Loss: 0.0235, Test Loss: 0.0314\n",
            "Epoch 20, Train Loss: 0.0201, Test Loss: 0.0277\n",
            "Epoch 21, Train Loss: 0.0175, Test Loss: 0.0243\n",
            "Epoch 22, Train Loss: 0.0153, Test Loss: 0.0214\n",
            "Epoch 23, Train Loss: 0.0135, Test Loss: 0.0188\n",
            "Epoch 24, Train Loss: 0.0119, Test Loss: 0.0167\n",
            "Epoch 25, Train Loss: 0.0106, Test Loss: 0.0148\n",
            "Epoch 26, Train Loss: 0.0095, Test Loss: 0.0132\n",
            "Epoch 27, Train Loss: 0.0085, Test Loss: 0.0119\n",
            "Epoch 28, Train Loss: 0.0078, Test Loss: 0.0107\n",
            "Epoch 29, Train Loss: 0.0070, Test Loss: 0.0097\n",
            "Epoch 30, Train Loss: 0.0065, Test Loss: 0.0088\n",
            "Epoch 31, Train Loss: 0.0060, Test Loss: 0.0080\n",
            "Epoch 32, Train Loss: 0.0055, Test Loss: 0.0074\n",
            "Epoch 33, Train Loss: 0.0051, Test Loss: 0.0069\n",
            "Epoch 34, Train Loss: 0.0047, Test Loss: 0.0064\n",
            "Epoch 35, Train Loss: 0.0044, Test Loss: 0.0060\n",
            "Epoch 36, Train Loss: 0.0042, Test Loss: 0.0056\n",
            "Epoch 37, Train Loss: 0.0039, Test Loss: 0.0052\n",
            "Epoch 38, Train Loss: 0.0037, Test Loss: 0.0049\n",
            "Epoch 39, Train Loss: 0.0034, Test Loss: 0.0046\n",
            "Epoch 40, Train Loss: 0.0032, Test Loss: 0.0044\n",
            "Epoch 41, Train Loss: 0.0031, Test Loss: 0.0042\n",
            "Epoch 42, Train Loss: 0.0029, Test Loss: 0.0039\n",
            "Epoch 43, Train Loss: 0.0028, Test Loss: 0.0037\n",
            "Epoch 44, Train Loss: 0.0026, Test Loss: 0.0035\n",
            "Epoch 45, Train Loss: 0.0025, Test Loss: 0.0034\n",
            "Epoch 46, Train Loss: 0.0024, Test Loss: 0.0032\n",
            "Epoch 47, Train Loss: 0.0023, Test Loss: 0.0031\n",
            "Epoch 48, Train Loss: 0.0022, Test Loss: 0.0030\n",
            "Epoch 49, Train Loss: 0.0021, Test Loss: 0.0028\n",
            "Epoch 50, Train Loss: 0.0020, Test Loss: 0.0027\n"
          ]
        },
        {
          "data": {
            "image/png": "[encoded data removed]",
            "text/plain": [
              "<Figure size 640x480 with 1 Axes>"
            ]
          },
          "metadata": {},
          "output_type": "display_data"
        }
      ],
      "source": [
        "import matplotlib.pyplot as plt\n",
        "\n",
        "train_losses = []\n",
        "test_losses = []\n",
        "for epoch in range(num_epochs):\n",
        "    train_loss = train(model, train_loader)\n",
        "    test_loss,y_true, y_pred = test(model, test_loader)\n",
        "    train_losses.append(train_loss)\n",
        "    test_losses.append(test_loss)\n",
        "    print(f'Epoch {epoch+1}, Train Loss: {train_loss:.4f}, Test Loss: {test_loss:.4f}')\n",
        "\n",
        "plt.plot(train_losses, label='Train Loss')\n",
        "plt.plot(test_losses, label='Test Loss')\n",
        "plt.legend()\n",
        "plt.xlabel('Epoch')\n",
        "plt.ylabel('Loss')\n",
        "plt.show()"
      ]
    },
    {
      "cell_type": "markdown",
      "metadata": {
        "id": "M07vrLHHowXn"
      },
      "source": [
        "تشخیص ناهنجاری با استفاده از آخرین لایه خروجی شبکه\n"
      ]
    },
    {
      "cell_type": "code",
      "execution_count": null,
      "metadata": {
        "colab": {
          "base_uri": "https://localhost:8080/"
        },
        "id": "4VWSwuPloxAH",
        "outputId": "46fe904a-f774-4aa8-eff2-b7d2186e52ba"
      },
      "outputs": [
        {
          "name": "stdout",
          "output_type": "stream",
          "text": [
            "Anomalies indices: [13 19]\n",
            "___________________________\n",
            "All data in test: 20\n",
            "Anomalies count in test : 2\n"
          ]
        }
      ],
      "source": [
        "y_pred = np.array(y_pred)\n",
        "threshold = np.mean(y_pred) + 2 * np.std(y_pred)\n",
        "anomalies = np.where(y_pred > threshold)[0]\n",
        "\n",
        "print(f'Anomalies indices: {anomalies}')\n",
        "print('___________________________')\n",
        "print(f'All data in test: {len(y_test)}')\n",
        "print(f'Anomalies count in test : {len(y_test[y_test==1])}')"
      ]
    },
    {
      "cell_type": "code",
      "execution_count": null,
      "metadata": {
        "colab": {
          "base_uri": "https://localhost:8080/",
          "height": 430
        },
        "id": "wl2YbM-OpryP",
        "outputId": "560326eb-e74e-4cd2-d13b-1fdb56244b16"
      },
      "outputs": [
        {
          "data": {
            "image/png": "[encoded data removed]",
            "text/plain": [
              "<Figure size 640x480 with 1 Axes>"
            ]
          },
          "metadata": {},
          "output_type": "display_data"
        }
      ],
      "source": [
        "import matplotlib.pyplot as plt\n",
        "\n",
        "# scatter plot of original data\n",
        "plt.scatter(data[:,0], data[:,1], label='Original Data')\n",
        "\n",
        "# scatter plot of noisy data\n",
        "plt.scatter(data[noise_indices][:,0], data[noise_indices][:,1], label='Noisy Data', color='r')\n",
        "\n",
        "plt.legend()\n",
        "plt.show()\n"
      ]
    }
  ],
  "metadata": {
    "accelerator": "GPU",
    "colab": {
      "provenance": []
    },
    "gpuClass": "standard",
    "kernelspec": {
      "display_name": "Python 3",
      "name": "python3"
    },
    "language_info": {
      "name": "python"
    }
  },
  "nbformat": 4,
  "nbformat_minor": 0
}
